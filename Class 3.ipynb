{
 "cells": [
  {
   "cell_type": "code",
   "execution_count": 18,
   "id": "c3ac7cbb",
   "metadata": {},
   "outputs": [],
   "source": [
    "class Node: \n",
    "    def __init__(self, data):\n",
    "        self.data = data\n",
    "        self.above = None\n",
    "\n",
    "class Stack: \n",
    "    def __init__(self):\n",
    "        self.base = None\n",
    "        \n",
    "    def push(self, item):\n",
    "        new_node = Node(item)\n",
    "        if not self.base:            # if self.base == None\n",
    "            self.base = new_node\n",
    "        else: \n",
    "            current = self.base\n",
    "            while current.above:         # while current.above != None\n",
    "                current = current.above\n",
    "            current.above = new_node\n",
    "\n",
    "    def pop(self):\n",
    "        # Our pop operations must, at a minimum, do two things: \n",
    "        # 1) Remove an element from the collection\n",
    "        # 2) Return the value that element(node) is holding.\n",
    "        \n",
    "        current = self.base\n",
    "        if not current: \n",
    "            return current\n",
    "        prev = None\n",
    "        while current.above:\n",
    "            prev = current\n",
    "            current = current.above\n",
    "              #print (\"prev: %s\" % prev.data)\n",
    "              #print(\"current: %s\" % current.data)\n",
    "        target_data = current.data\n",
    "        if prev:\n",
    "            prev.above = None\n",
    "        else:\n",
    "            self.base = None\n",
    "        return target_data\n",
    "    \n",
    "    def peek(self):\n",
    "        pass\n",
    "    \n",
    "    def is_empty(self):\n",
    "        if self.base:\n",
    "            return False\n",
    "        return True\n",
    "    \n",
    "    def size(self):\n",
    "        pass\n",
    "            \n",
    "        "
   ]
  },
  {
   "cell_type": "code",
   "execution_count": 19,
   "id": "0c04e9f3",
   "metadata": {},
   "outputs": [
    {
     "data": {
      "text/plain": [
       "'leafaR'"
      ]
     },
     "execution_count": 19,
     "metadata": {},
     "output_type": "execute_result"
    }
   ],
   "source": [
    "def invert_str(mystring):\n",
    "    stack = Stack()\n",
    "    for letter in mystring:\n",
    "        stack.push(letter)\n",
    "    out = \"\"\n",
    "    is_empty = False\n",
    "    while not is_empty:\n",
    "        letter = stack.pop()\n",
    "        if not letter:class Ques\n",
    "            is_empty = True\n",
    "        else:\n",
    "            out += letter\n",
    "    return out\n",
    "\n",
    "invert_str(\"Rafael\")"
   ]
  },
  {
   "cell_type": "code",
   "execution_count": 20,
   "id": "e7a9ca83",
   "metadata": {},
   "outputs": [],
   "source": [
    "class Queue:\n",
    "    def __init__(self):\n",
    "        self.items = []\n",
    "        \n",
    "    def enqueue(self, item):\n",
    "        self.items.insert(0, item)\n",
    "        \n",
    "    def dequeue(self):\n",
    "        return self.items.pop()\n",
    "    \n",
    "    #Helper methods:\n",
    "    def peek(self):\n",
    "        return self.items[len(self.items)-1]\n",
    "    \n",
    "    def size(self):\n",
    "        return len(self.items)\n",
    "\n",
    "    def is_empty(self):\n",
    "        return self.items == []"
   ]
  },
  {
   "cell_type": "code",
   "execution_count": null,
   "id": "7f9d3ee5",
   "metadata": {},
   "outputs": [],
   "source": []
  }
 ],
 "metadata": {
  "kernelspec": {
   "display_name": "Python 3 (ipykernel)",
   "language": "python",
   "name": "python3"
  },
  "language_info": {
   "codemirror_mode": {
    "name": "ipython",
    "version": 3
   },
   "file_extension": ".py",
   "mimetype": "text/x-python",
   "name": "python",
   "nbconvert_exporter": "python",
   "pygments_lexer": "ipython3",
   "version": "3.10.6"
  }
 },
 "nbformat": 4,
 "nbformat_minor": 5
}
