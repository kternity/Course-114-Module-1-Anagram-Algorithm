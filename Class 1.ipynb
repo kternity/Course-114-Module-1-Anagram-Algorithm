{
 "cells": [
  {
   "cell_type": "code",
   "execution_count": 1,
   "id": "2bde0d21",
   "metadata": {},
   "outputs": [
    {
     "name": "stdout",
     "output_type": "stream",
     "text": [
      "H\n",
      "e\n",
      "l\n",
      "l\n",
      "o\n",
      " \n",
      " \n",
      "w\n",
      "o\n",
      "r\n",
      "l\n",
      "d\n"
     ]
    }
   ],
   "source": [
    "for letter in \"Hello  world\":\n",
    "    print(letter)"
   ]
  },
  {
   "cell_type": "markdown",
   "id": "3453d83c",
   "metadata": {},
   "source": []
  },
  {
   "cell_type": "markdown",
   "id": "f54e6a14",
   "metadata": {},
   "source": [
    "# Problem 1\n",
    "\n",
    "### Given two strings(string_a and string_b) determine if these are anagrams of each other. \n",
    "your function, \"are_anagrams\"must receive two strings and return True if these are anagrams of each other, False otherwise. \n",
    "\n",
    "_Criteria_:\n",
    "Two strings are anagrams of each other if and only if: \n",
    "1. They are xactly the same length.\n",
    "2. They use the exact same characters, the same amount of times. \n",
    "        \n",
    "Examples: \n",
    "```\n",
    "cars and scar\n",
    "heart and earth\n",
    "etc\n",
    "```\n",
    "    "
   ]
  },
  {
   "cell_type": "code",
   "execution_count": 1,
   "id": "5e5c3c37",
   "metadata": {},
   "outputs": [],
   "source": [
    "def are_anagrams(string_a, string_b):\n",
    "    string_a = string_a.replace(\" \", \"\")       #removes space\n",
    "    string_b = string_b.replace(\" \", \"\")\n",
    "    string_a = string_a.lower()                #changes all to lower cases\n",
    "    string_b = string_b.lower()\n",
    "    if len(string_a) !=len(string_b):          # O(1) or constant time\n",
    "        return False\n",
    "    times_a = dict()                           # O(n) or linear\n",
    "    times_b = dict()                           # Creates Dictionary (pair of 2 values) that stores how many times each character is used\n",
    "    for i in range(len(string_a)):             #iteration starts from i=0 to last letter/'range' limits to the max char\n",
    "        if string_a[i] not in times_a.keys():  \n",
    "            times_a[string_a[i]] = 1           #we've seen that case once\n",
    "        else: \n",
    "            times_a[string_a[i]] += 1          #we've seen that case at least once\n",
    "        if string_b[i] not in times_b.keys():\n",
    "            times_b[string_b[i]] = 1\n",
    "        else:\n",
    "            times_b[string_b[i]] += 1\n",
    "    return times_a == times_b                  #selecting data structure is important\n"
   ]
  },
  {
   "cell_type": "code",
   "execution_count": null,
   "id": "4d4bce31",
   "metadata": {},
   "outputs": [],
   "source": []
  },
  {
   "cell_type": "code",
   "execution_count": null,
   "id": "9bdba1d7",
   "metadata": {},
   "outputs": [],
   "source": []
  }
 ],
 "metadata": {
  "kernelspec": {
   "display_name": "Python 3 (ipykernel)",
   "language": "python",
   "name": "python3"
  },
  "language_info": {
   "codemirror_mode": {
    "name": "ipython",
    "version": 3
   },
   "file_extension": ".py",
   "mimetype": "text/x-python",
   "name": "python",
   "nbconvert_exporter": "python",
   "pygments_lexer": "ipython3",
   "version": "3.10.6"
  }
 },
 "nbformat": 4,
 "nbformat_minor": 5
}
