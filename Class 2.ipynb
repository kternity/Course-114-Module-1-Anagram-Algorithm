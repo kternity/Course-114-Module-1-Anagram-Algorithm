{
 "cells": [
  {
   "cell_type": "code",
   "execution_count": 9,
   "id": "c3034916",
   "metadata": {},
   "outputs": [],
   "source": [
    "def are_anagrams(string_a, string_b):\n",
    "    string_a = string_a.replace(\" \", \"\")       #removes space\n",
    "    string_b = string_b.replace(\" \", \"\")\n",
    "    string_a = string_a.lower()                #changes all to lower cases\n",
    "    string_b = string_b.lower()\n",
    "    if len(string_a) !=len(string_b):          # O(1) or constant time\n",
    "        return False\n",
    "    times_a = dict()                           # O(n) or linear\n",
    "    times_b = dict()                           # Creates Dictionary (pair of 2 values) that stores how many times each character is used\n",
    "    for i in range(len(string_a)):             #iteration starts from i=0 to last letter/'range' limits to the max char\n",
    "        if string_a[i] not in times_a.keys():  \n",
    "            times_a[string_a[i]] = 1           #we've seen that case once\n",
    "        else: \n",
    "            times_a[string_a[i]] += 1          #we've seen that case at least once\n",
    "        if string_b[i] not in times_b.keys():\n",
    "            times_b[string_b[i]] = 1\n",
    "        else:\n",
    "            times_b[string_b[i]] += 1\n",
    "    return times_a == times_b                  #selecting data structure is important\n"
   ]
  },
  {
   "cell_type": "code",
   "execution_count": 17,
   "id": "a79c8ab5",
   "metadata": {},
   "outputs": [],
   "source": [
    "#STACK -- Fast implementation (know lines 1-11 for interview)\n",
    "\n",
    "class Stack: \n",
    "    def __init__(self):\n",
    "        self.items = []   #python list      \n",
    "        \n",
    "    def push(self, item):\n",
    "        self.items.append(item)\n",
    "        \n",
    "    def pop(self):\n",
    "        return self.items.pop()\n",
    "    \n",
    "    #helper methods:\n",
    "    \n",
    "    def size(self):\n",
    "        return len(self.items)\n",
    "    \n",
    "    def peek(self):\n",
    "        return self.items[len(self.items)-1]\n",
    "    \n",
    "    def is_empty(self):\n",
    "        return self.items == []\n",
    "              \n",
    "              "
   ]
  },
  {
   "cell_type": "markdown",
   "id": "4d93c035",
   "metadata": {},
   "source": [
    "# Problem 2\n",
    "### Use a stack to invert a string\n",
    "Given a string such as \"Rafael\" create a function that inverts it, for example, it should return 'leafaR'.\n",
    "\n",
    "```\n",
    "examples:\n",
    "cars and scrac\n",
    "hello and olleh\n",
    "```"
   ]
  },
  {
   "cell_type": "code",
   "execution_count": 21,
   "id": "2203efba",
   "metadata": {},
   "outputs": [
    {
     "data": {
      "text/plain": [
       "'srac'"
      ]
     },
     "execution_count": 21,
     "metadata": {},
     "output_type": "execute_result"
    }
   ],
   "source": [
    "def invert_str(mystring):\n",
    "    stack = Stack()\n",
    "    for letter in mystring:\n",
    "        stack.push(letter)\n",
    "    out = \"\"\n",
    "    while stack.is_empty() != True:\n",
    "        out += stack.pop()\n",
    "    return out\n",
    "\n",
    "invert_str(\"cars\")"
   ]
  },
  {
   "cell_type": "code",
   "execution_count": null,
   "id": "718ea272",
   "metadata": {},
   "outputs": [],
   "source": []
  }
 ],
 "metadata": {
  "kernelspec": {
   "display_name": "Python 3 (ipykernel)",
   "language": "python",
   "name": "python3"
  },
  "language_info": {
   "codemirror_mode": {
    "name": "ipython",
    "version": 3
   },
   "file_extension": ".py",
   "mimetype": "text/x-python",
   "name": "python",
   "nbconvert_exporter": "python",
   "pygments_lexer": "ipython3",
   "version": "3.10.6"
  }
 },
 "nbformat": 4,
 "nbformat_minor": 5
}
