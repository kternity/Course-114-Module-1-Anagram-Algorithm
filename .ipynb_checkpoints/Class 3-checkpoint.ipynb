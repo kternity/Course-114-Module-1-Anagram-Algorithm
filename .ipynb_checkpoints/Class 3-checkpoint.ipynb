{
 "cells": [
  {
   "cell_type": "code",
   "execution_count": 14,
   "id": "aad02ed1",
   "metadata": {},
   "outputs": [],
   "source": [
    "class Node: \n",
    "    def __init__(self, data):\n",
    "        self.data = data\n",
    "        self.above = None\n",
    "\n",
    "class Stack: \n",
    "    def __init__(self):\n",
    "        self.base = None\n",
    "        \n",
    "    def push(self, item):\n",
    "        new_node = Node(item)\n",
    "        if not self.base:            # if self.base == None\n",
    "            self.base = new_node\n",
    "        else: \n",
    "            current = self.base\n",
    "            while current.above:         # while current.above != None\n",
    "                current = current.above\n",
    "            current.above = new_node\n",
    "\n",
    "    def pop(self):\n",
    "        # Our pop operations must, at a minimum, do two things: \n",
    "        # 1) Remove an element from the collection\n",
    "        # 2) Return the value that element(node) is holding.\n",
    "        \n",
    "        current = self.base\n",
    "        if not current: \n",
    "            return current\n",
    "        prev = None\n",
    "        while current.above:\n",
    "            prev = current\n",
    "            current = current.above\n",
    "              #print (\"prev: %s\" % prev.data)\n",
    "              #print(\"current: %s\" % current.data)\n",
    "        target_data = current.data\n",
    "        if prev:\n",
    "            prev.above = None\n",
    "        else:\n",
    "            self.base = None\n",
    "        return target_data\n",
    "    \n",
    "    def peek(self):\n",
    "        pass\n",
    "    \n",
    "    def is_empty(self):\n",
    "        pass\n",
    "    \n",
    "    def size(self):\n",
    "        pass\n",
    "            \n",
    "        "
   ]
  },
  {
   "cell_type": "code",
   "execution_count": 15,
   "id": "e88a73df",
   "metadata": {},
   "outputs": [
    {
     "ename": "AttributeError",
     "evalue": "'NoneType' object has no attribute 'above'",
     "output_type": "error",
     "traceback": [
      "\u001b[0;31m---------------------------------------------------------------------------\u001b[0m",
      "\u001b[0;31mAttributeError\u001b[0m                            Traceback (most recent call last)",
      "Cell \u001b[0;32mIn[15], line 15\u001b[0m\n\u001b[1;32m     12\u001b[0m             out \u001b[38;5;241m+\u001b[39m\u001b[38;5;241m=\u001b[39m letter\n\u001b[1;32m     13\u001b[0m     \u001b[38;5;28;01mreturn\u001b[39;00m out\n\u001b[0;32m---> 15\u001b[0m \u001b[43minvert_str\u001b[49m\u001b[43m(\u001b[49m\u001b[38;5;124;43m\"\u001b[39;49m\u001b[38;5;124;43mRafael\u001b[39;49m\u001b[38;5;124;43m\"\u001b[39;49m\u001b[43m)\u001b[49m\n",
      "Cell \u001b[0;32mIn[15], line 8\u001b[0m, in \u001b[0;36minvert_str\u001b[0;34m(mystring)\u001b[0m\n\u001b[1;32m      6\u001b[0m is_empty \u001b[38;5;241m=\u001b[39m \u001b[38;5;28;01mFalse\u001b[39;00m\n\u001b[1;32m      7\u001b[0m \u001b[38;5;28;01mwhile\u001b[39;00m \u001b[38;5;129;01mnot\u001b[39;00m is_empty:\n\u001b[0;32m----> 8\u001b[0m     letter \u001b[38;5;241m=\u001b[39m \u001b[43mstack\u001b[49m\u001b[38;5;241;43m.\u001b[39;49m\u001b[43mpop\u001b[49m\u001b[43m(\u001b[49m\u001b[43m)\u001b[49m\n\u001b[1;32m      9\u001b[0m     \u001b[38;5;28;01mif\u001b[39;00m \u001b[38;5;129;01mnot\u001b[39;00m letter:\n\u001b[1;32m     10\u001b[0m         is_empty \u001b[38;5;241m=\u001b[39m \u001b[38;5;28;01mTrue\u001b[39;00m\n",
      "Cell \u001b[0;32mIn[14], line 33\u001b[0m, in \u001b[0;36mStack.pop\u001b[0;34m(self)\u001b[0m\n\u001b[1;32m     31\u001b[0m     current \u001b[38;5;241m=\u001b[39m current\u001b[38;5;241m.\u001b[39mabove\n\u001b[1;32m     32\u001b[0m target_data \u001b[38;5;241m=\u001b[39m current\u001b[38;5;241m.\u001b[39mdata\n\u001b[0;32m---> 33\u001b[0m \u001b[43mprev\u001b[49m\u001b[38;5;241;43m.\u001b[39;49m\u001b[43mabove\u001b[49m \u001b[38;5;241m=\u001b[39m \u001b[38;5;28;01mNone\u001b[39;00m\n\u001b[1;32m     34\u001b[0m \u001b[38;5;28;01mreturn\u001b[39;00m target_data\n",
      "\u001b[0;31mAttributeError\u001b[0m: 'NoneType' object has no attribute 'above'"
     ]
    }
   ],
   "source": [
    "def invert_str(mystring):\n",
    "    stack = Stack()\n",
    "    for letter in mystring:\n",
    "        stack.push(letter)\n",
    "    out = \"\"\n",
    "    is_empty = False\n",
    "    while not is_empty:\n",
    "        letter = stack.pop()\n",
    "        if not letter:\n",
    "            is_empty = True\n",
    "        else:\n",
    "            out += letter\n",
    "    return out\n",
    "\n",
    "invert_str(\"Rafael\")"
   ]
  },
  {
   "cell_type": "code",
   "execution_count": null,
   "id": "4e37a66d",
   "metadata": {},
   "outputs": [],
   "source": []
  }
 ],
 "metadata": {
  "kernelspec": {
   "display_name": "Python 3 (ipykernel)",
   "language": "python",
   "name": "python3"
  },
  "language_info": {
   "codemirror_mode": {
    "name": "ipython",
    "version": 3
   },
   "file_extension": ".py",
   "mimetype": "text/x-python",
   "name": "python",
   "nbconvert_exporter": "python",
   "pygments_lexer": "ipython3",
   "version": "3.10.6"
  }
 },
 "nbformat": 4,
 "nbformat_minor": 5
}
